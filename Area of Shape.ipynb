{
 "cells": [
  {
   "cell_type": "code",
   "execution_count": 2,
   "metadata": {},
   "outputs": [
    {
     "name": "stdout",
     "output_type": "stream",
     "text": [
      "Which shape would you like to calculate the area for? Please enter the option number-\n",
      "1. Square\n",
      "2. Rectangle\n",
      "3. Triangle\n",
      "4. Circle\n",
      "\n",
      "Enter Option: 1\n",
      "Enter the length of side of the square: wew\n",
      "Enter a valid value\n",
      "Enter the length of side of the square: 4\n",
      "Area of square 16\n"
     ]
    }
   ],
   "source": [
    "def area(option):\n",
    "    if int(option)==1:\n",
    "        n=0\n",
    "        while(n==0):\n",
    "            side=input('Enter the length of side of the square: ')\n",
    "            if side.isdigit():\n",
    "                print(\"Area of square {}\".format(int(side)*int(side)))\n",
    "                n=1\n",
    "            else:\n",
    "                print('Enter a valid value')\n",
    "                n=0\n",
    "    elif int(option)==2:\n",
    "        n=0\n",
    "        while(n==0):\n",
    "            len1=input('Enter the length of the rectangle: ')\n",
    "            brea=input('Enter the Breadth of the rectangle: ')\n",
    "            if len1.isdigit() and brea.isdigit():\n",
    "                print('Area of rectangle:{}'.format(int(len1)*int(brea)))\n",
    "                n=1\n",
    "            else:\n",
    "                print('Enter a valid  value')\n",
    "                n=0\n",
    "    elif int(option)==3:\n",
    "        n=0\n",
    "        while(n==0):\n",
    "            h=input('Enter the height of the triangle: ')\n",
    "            lbase=input('Enter the base length of the triangle: ')\n",
    "            if h.isdigit() and lbase.isdigit():\n",
    "                print('Area of Triangle:{}'.format((0.5*int(h)*int(lbase))))\n",
    "                n=1\n",
    "            else:\n",
    "                print('Enter a valid value')\n",
    "                n=0\n",
    "                \n",
    "    elif int(option)==4:\n",
    "        n=0\n",
    "        while(n==0):\n",
    "            radius=input('Enter the radius of the Circle: ')\n",
    "            if radius.isdigit():\n",
    "                print(\"Area of Circle {}\".format((3.14*int(radius)*int(radius))))\n",
    "                n=1\n",
    "            else:\n",
    "                print('Enter a valid value')\n",
    "                n=0\n",
    "                \n",
    "            \n",
    "\n",
    "          \n",
    "\n",
    "print(\"\"\"Which shape would you like to calculate the area for? Please enter the option number-\n",
    "1. Square\n",
    "2. Rectangle\n",
    "3. Triangle\n",
    "4. Circle\n",
    "\"\"\")\n",
    "option=input('Enter Option: ')\n",
    "i=0\n",
    "while(i==0):\n",
    "    if int(option)>4:\n",
    "        print('Enter the only options given')\n",
    "        option=input('Enter Option again: ')\n",
    "        i=0\n",
    "    else:\n",
    "        i=1\n",
    "        \n",
    "area(option)"
   ]
  },
  {
   "cell_type": "code",
   "execution_count": null,
   "metadata": {},
   "outputs": [],
   "source": []
  }
 ],
 "metadata": {
  "kernelspec": {
   "display_name": "Python 3",
   "language": "python",
   "name": "python3"
  },
  "language_info": {
   "codemirror_mode": {
    "name": "ipython",
    "version": 3
   },
   "file_extension": ".py",
   "mimetype": "text/x-python",
   "name": "python",
   "nbconvert_exporter": "python",
   "pygments_lexer": "ipython3",
   "version": "3.8.5"
  }
 },
 "nbformat": 4,
 "nbformat_minor": 4
}
